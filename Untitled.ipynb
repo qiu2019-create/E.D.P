{
 "cells": [
  {
   "cell_type": "code",
   "execution_count": 1,
   "metadata": {
    "collapsed": true
   },
   "outputs": [],
   "source": [
    "import sys\n",
    "import csv"
   ]
  },
  {
   "cell_type": "code",
   "execution_count": 2,
   "metadata": {
    "collapsed": true
   },
   "outputs": [],
   "source": [
    "a =1 "
   ]
  },
  {
   "cell_type": "code",
   "execution_count": 3,
   "metadata": {
    "collapsed": false
   },
   "outputs": [
    {
     "data": {
      "text/plain": [
       "1"
      ]
     },
     "execution_count": 3,
     "metadata": {},
     "output_type": "execute_result"
    }
   ],
   "source": [
    "a"
   ]
  },
  {
   "cell_type": "code",
   "execution_count": 4,
   "metadata": {
    "collapsed": true
   },
   "outputs": [],
   "source": [
    "sys.path.append(\"\")"
   ]
  },
  {
   "cell_type": "code",
   "execution_count": 5,
   "metadata": {
    "collapsed": false
   },
   "outputs": [],
   "source": [
    "a = open(\"C:\\\\Users\\\\90364\\\\Documents\\\\WeChat Files\\\\a13519491340\\\\FileStorage\\\\File\\\\2019-10\\\\international-airline-passengers.csv\")"
   ]
  },
  {
   "cell_type": "code",
   "execution_count": 6,
   "metadata": {
    "collapsed": true
   },
   "outputs": [],
   "source": [
    "c = csv.reader(a)"
   ]
  },
  {
   "cell_type": "code",
   "execution_count": 7,
   "metadata": {
    "collapsed": false
   },
   "outputs": [
    {
     "data": {
      "text/plain": [
       "<_csv.reader at 0x17f3ceb9e18>"
      ]
     },
     "execution_count": 7,
     "metadata": {},
     "output_type": "execute_result"
    }
   ],
   "source": [
    "c"
   ]
  },
  {
   "cell_type": "code",
   "execution_count": 8,
   "metadata": {
    "collapsed": false
   },
   "outputs": [
    {
     "data": {
      "text/plain": [
       "0"
      ]
     },
     "execution_count": 8,
     "metadata": {},
     "output_type": "execute_result"
    }
   ],
   "source": [
    "c.line_num"
   ]
  },
  {
   "cell_type": "code",
   "execution_count": 9,
   "metadata": {
    "collapsed": true
   },
   "outputs": [],
   "source": [
    "import numpy as np # linear algebra\n",
    "import pandas as pd # data processing, CSV file I/O (e.g. pd.read_csv)\n",
    "import matplotlib.pyplot as plt\n",
    "import math"
   ]
  },
  {
   "cell_type": "code",
   "execution_count": 10,
   "metadata": {
    "collapsed": false
   },
   "outputs": [],
   "source": [
    "dataset=pd.read_csv(\"C:\\\\Users\\\\90364\\\\Documents\\\\WeChat Files\\\\a13519491340\\\\FileStorage\\\\File\\\\2019-10\\\\international-airline-passengers.csv\")"
   ]
  },
  {
   "cell_type": "code",
   "execution_count": 11,
   "metadata": {
    "collapsed": false
   },
   "outputs": [
    {
     "data": {
      "text/html": [
       "<div>\n",
       "<table border=\"1\" class=\"dataframe\">\n",
       "  <thead>\n",
       "    <tr style=\"text-align: right;\">\n",
       "      <th></th>\n",
       "      <th>Month</th>\n",
       "      <th>International airline passengers: monthly totals in thousands. Jan 49 ? Dec 60</th>\n",
       "    </tr>\n",
       "  </thead>\n",
       "  <tbody>\n",
       "    <tr>\n",
       "      <th>0</th>\n",
       "      <td>1949-01</td>\n",
       "      <td>112</td>\n",
       "    </tr>\n",
       "    <tr>\n",
       "      <th>1</th>\n",
       "      <td>1949-02</td>\n",
       "      <td>118</td>\n",
       "    </tr>\n",
       "    <tr>\n",
       "      <th>2</th>\n",
       "      <td>1949-03</td>\n",
       "      <td>132</td>\n",
       "    </tr>\n",
       "    <tr>\n",
       "      <th>3</th>\n",
       "      <td>1949-04</td>\n",
       "      <td>129</td>\n",
       "    </tr>\n",
       "    <tr>\n",
       "      <th>4</th>\n",
       "      <td>1949-05</td>\n",
       "      <td>121</td>\n",
       "    </tr>\n",
       "    <tr>\n",
       "      <th>5</th>\n",
       "      <td>1949-06</td>\n",
       "      <td>135</td>\n",
       "    </tr>\n",
       "    <tr>\n",
       "      <th>6</th>\n",
       "      <td>1949-07</td>\n",
       "      <td>148</td>\n",
       "    </tr>\n",
       "    <tr>\n",
       "      <th>7</th>\n",
       "      <td>1949-08</td>\n",
       "      <td>148</td>\n",
       "    </tr>\n",
       "    <tr>\n",
       "      <th>8</th>\n",
       "      <td>1949-09</td>\n",
       "      <td>136</td>\n",
       "    </tr>\n",
       "    <tr>\n",
       "      <th>9</th>\n",
       "      <td>1949-10</td>\n",
       "      <td>119</td>\n",
       "    </tr>\n",
       "    <tr>\n",
       "      <th>10</th>\n",
       "      <td>1949-11</td>\n",
       "      <td>104</td>\n",
       "    </tr>\n",
       "    <tr>\n",
       "      <th>11</th>\n",
       "      <td>1949-12</td>\n",
       "      <td>118</td>\n",
       "    </tr>\n",
       "    <tr>\n",
       "      <th>12</th>\n",
       "      <td>1950-01</td>\n",
       "      <td>115</td>\n",
       "    </tr>\n",
       "    <tr>\n",
       "      <th>13</th>\n",
       "      <td>1950-02</td>\n",
       "      <td>126</td>\n",
       "    </tr>\n",
       "    <tr>\n",
       "      <th>14</th>\n",
       "      <td>1950-03</td>\n",
       "      <td>141</td>\n",
       "    </tr>\n",
       "    <tr>\n",
       "      <th>15</th>\n",
       "      <td>1950-04</td>\n",
       "      <td>135</td>\n",
       "    </tr>\n",
       "    <tr>\n",
       "      <th>16</th>\n",
       "      <td>1950-05</td>\n",
       "      <td>125</td>\n",
       "    </tr>\n",
       "    <tr>\n",
       "      <th>17</th>\n",
       "      <td>1950-06</td>\n",
       "      <td>149</td>\n",
       "    </tr>\n",
       "    <tr>\n",
       "      <th>18</th>\n",
       "      <td>1950-07</td>\n",
       "      <td>170</td>\n",
       "    </tr>\n",
       "    <tr>\n",
       "      <th>19</th>\n",
       "      <td>1950-08</td>\n",
       "      <td>170</td>\n",
       "    </tr>\n",
       "    <tr>\n",
       "      <th>20</th>\n",
       "      <td>1950-09</td>\n",
       "      <td>158</td>\n",
       "    </tr>\n",
       "    <tr>\n",
       "      <th>21</th>\n",
       "      <td>1950-10</td>\n",
       "      <td>133</td>\n",
       "    </tr>\n",
       "    <tr>\n",
       "      <th>22</th>\n",
       "      <td>1950-11</td>\n",
       "      <td>114</td>\n",
       "    </tr>\n",
       "    <tr>\n",
       "      <th>23</th>\n",
       "      <td>1950-12</td>\n",
       "      <td>140</td>\n",
       "    </tr>\n",
       "    <tr>\n",
       "      <th>24</th>\n",
       "      <td>1951-01</td>\n",
       "      <td>145</td>\n",
       "    </tr>\n",
       "    <tr>\n",
       "      <th>25</th>\n",
       "      <td>1951-02</td>\n",
       "      <td>150</td>\n",
       "    </tr>\n",
       "    <tr>\n",
       "      <th>26</th>\n",
       "      <td>1951-03</td>\n",
       "      <td>178</td>\n",
       "    </tr>\n",
       "    <tr>\n",
       "      <th>27</th>\n",
       "      <td>1951-04</td>\n",
       "      <td>163</td>\n",
       "    </tr>\n",
       "    <tr>\n",
       "      <th>28</th>\n",
       "      <td>1951-05</td>\n",
       "      <td>172</td>\n",
       "    </tr>\n",
       "    <tr>\n",
       "      <th>29</th>\n",
       "      <td>1951-06</td>\n",
       "      <td>178</td>\n",
       "    </tr>\n",
       "    <tr>\n",
       "      <th>...</th>\n",
       "      <td>...</td>\n",
       "      <td>...</td>\n",
       "    </tr>\n",
       "    <tr>\n",
       "      <th>114</th>\n",
       "      <td>1958-07</td>\n",
       "      <td>491</td>\n",
       "    </tr>\n",
       "    <tr>\n",
       "      <th>115</th>\n",
       "      <td>1958-08</td>\n",
       "      <td>505</td>\n",
       "    </tr>\n",
       "    <tr>\n",
       "      <th>116</th>\n",
       "      <td>1958-09</td>\n",
       "      <td>404</td>\n",
       "    </tr>\n",
       "    <tr>\n",
       "      <th>117</th>\n",
       "      <td>1958-10</td>\n",
       "      <td>359</td>\n",
       "    </tr>\n",
       "    <tr>\n",
       "      <th>118</th>\n",
       "      <td>1958-11</td>\n",
       "      <td>310</td>\n",
       "    </tr>\n",
       "    <tr>\n",
       "      <th>119</th>\n",
       "      <td>1958-12</td>\n",
       "      <td>337</td>\n",
       "    </tr>\n",
       "    <tr>\n",
       "      <th>120</th>\n",
       "      <td>1959-01</td>\n",
       "      <td>360</td>\n",
       "    </tr>\n",
       "    <tr>\n",
       "      <th>121</th>\n",
       "      <td>1959-02</td>\n",
       "      <td>342</td>\n",
       "    </tr>\n",
       "    <tr>\n",
       "      <th>122</th>\n",
       "      <td>1959-03</td>\n",
       "      <td>406</td>\n",
       "    </tr>\n",
       "    <tr>\n",
       "      <th>123</th>\n",
       "      <td>1959-04</td>\n",
       "      <td>396</td>\n",
       "    </tr>\n",
       "    <tr>\n",
       "      <th>124</th>\n",
       "      <td>1959-05</td>\n",
       "      <td>420</td>\n",
       "    </tr>\n",
       "    <tr>\n",
       "      <th>125</th>\n",
       "      <td>1959-06</td>\n",
       "      <td>472</td>\n",
       "    </tr>\n",
       "    <tr>\n",
       "      <th>126</th>\n",
       "      <td>1959-07</td>\n",
       "      <td>548</td>\n",
       "    </tr>\n",
       "    <tr>\n",
       "      <th>127</th>\n",
       "      <td>1959-08</td>\n",
       "      <td>559</td>\n",
       "    </tr>\n",
       "    <tr>\n",
       "      <th>128</th>\n",
       "      <td>1959-09</td>\n",
       "      <td>463</td>\n",
       "    </tr>\n",
       "    <tr>\n",
       "      <th>129</th>\n",
       "      <td>1959-10</td>\n",
       "      <td>407</td>\n",
       "    </tr>\n",
       "    <tr>\n",
       "      <th>130</th>\n",
       "      <td>1959-11</td>\n",
       "      <td>362</td>\n",
       "    </tr>\n",
       "    <tr>\n",
       "      <th>131</th>\n",
       "      <td>1959-12</td>\n",
       "      <td>405</td>\n",
       "    </tr>\n",
       "    <tr>\n",
       "      <th>132</th>\n",
       "      <td>1960-01</td>\n",
       "      <td>417</td>\n",
       "    </tr>\n",
       "    <tr>\n",
       "      <th>133</th>\n",
       "      <td>1960-02</td>\n",
       "      <td>391</td>\n",
       "    </tr>\n",
       "    <tr>\n",
       "      <th>134</th>\n",
       "      <td>1960-03</td>\n",
       "      <td>419</td>\n",
       "    </tr>\n",
       "    <tr>\n",
       "      <th>135</th>\n",
       "      <td>1960-04</td>\n",
       "      <td>461</td>\n",
       "    </tr>\n",
       "    <tr>\n",
       "      <th>136</th>\n",
       "      <td>1960-05</td>\n",
       "      <td>472</td>\n",
       "    </tr>\n",
       "    <tr>\n",
       "      <th>137</th>\n",
       "      <td>1960-06</td>\n",
       "      <td>535</td>\n",
       "    </tr>\n",
       "    <tr>\n",
       "      <th>138</th>\n",
       "      <td>1960-07</td>\n",
       "      <td>622</td>\n",
       "    </tr>\n",
       "    <tr>\n",
       "      <th>139</th>\n",
       "      <td>1960-08</td>\n",
       "      <td>606</td>\n",
       "    </tr>\n",
       "    <tr>\n",
       "      <th>140</th>\n",
       "      <td>1960-09</td>\n",
       "      <td>508</td>\n",
       "    </tr>\n",
       "    <tr>\n",
       "      <th>141</th>\n",
       "      <td>1960-10</td>\n",
       "      <td>461</td>\n",
       "    </tr>\n",
       "    <tr>\n",
       "      <th>142</th>\n",
       "      <td>1960-11</td>\n",
       "      <td>390</td>\n",
       "    </tr>\n",
       "    <tr>\n",
       "      <th>143</th>\n",
       "      <td>1960-12</td>\n",
       "      <td>432</td>\n",
       "    </tr>\n",
       "  </tbody>\n",
       "</table>\n",
       "<p>144 rows × 2 columns</p>\n",
       "</div>"
      ],
      "text/plain": [
       "       Month  \\\n",
       "0    1949-01   \n",
       "1    1949-02   \n",
       "2    1949-03   \n",
       "3    1949-04   \n",
       "4    1949-05   \n",
       "5    1949-06   \n",
       "6    1949-07   \n",
       "7    1949-08   \n",
       "8    1949-09   \n",
       "9    1949-10   \n",
       "10   1949-11   \n",
       "11   1949-12   \n",
       "12   1950-01   \n",
       "13   1950-02   \n",
       "14   1950-03   \n",
       "15   1950-04   \n",
       "16   1950-05   \n",
       "17   1950-06   \n",
       "18   1950-07   \n",
       "19   1950-08   \n",
       "20   1950-09   \n",
       "21   1950-10   \n",
       "22   1950-11   \n",
       "23   1950-12   \n",
       "24   1951-01   \n",
       "25   1951-02   \n",
       "26   1951-03   \n",
       "27   1951-04   \n",
       "28   1951-05   \n",
       "29   1951-06   \n",
       "..       ...   \n",
       "114  1958-07   \n",
       "115  1958-08   \n",
       "116  1958-09   \n",
       "117  1958-10   \n",
       "118  1958-11   \n",
       "119  1958-12   \n",
       "120  1959-01   \n",
       "121  1959-02   \n",
       "122  1959-03   \n",
       "123  1959-04   \n",
       "124  1959-05   \n",
       "125  1959-06   \n",
       "126  1959-07   \n",
       "127  1959-08   \n",
       "128  1959-09   \n",
       "129  1959-10   \n",
       "130  1959-11   \n",
       "131  1959-12   \n",
       "132  1960-01   \n",
       "133  1960-02   \n",
       "134  1960-03   \n",
       "135  1960-04   \n",
       "136  1960-05   \n",
       "137  1960-06   \n",
       "138  1960-07   \n",
       "139  1960-08   \n",
       "140  1960-09   \n",
       "141  1960-10   \n",
       "142  1960-11   \n",
       "143  1960-12   \n",
       "\n",
       "     International airline passengers: monthly totals in thousands. Jan 49 ? Dec 60  \n",
       "0                                                  112                               \n",
       "1                                                  118                               \n",
       "2                                                  132                               \n",
       "3                                                  129                               \n",
       "4                                                  121                               \n",
       "5                                                  135                               \n",
       "6                                                  148                               \n",
       "7                                                  148                               \n",
       "8                                                  136                               \n",
       "9                                                  119                               \n",
       "10                                                 104                               \n",
       "11                                                 118                               \n",
       "12                                                 115                               \n",
       "13                                                 126                               \n",
       "14                                                 141                               \n",
       "15                                                 135                               \n",
       "16                                                 125                               \n",
       "17                                                 149                               \n",
       "18                                                 170                               \n",
       "19                                                 170                               \n",
       "20                                                 158                               \n",
       "21                                                 133                               \n",
       "22                                                 114                               \n",
       "23                                                 140                               \n",
       "24                                                 145                               \n",
       "25                                                 150                               \n",
       "26                                                 178                               \n",
       "27                                                 163                               \n",
       "28                                                 172                               \n",
       "29                                                 178                               \n",
       "..                                                 ...                               \n",
       "114                                                491                               \n",
       "115                                                505                               \n",
       "116                                                404                               \n",
       "117                                                359                               \n",
       "118                                                310                               \n",
       "119                                                337                               \n",
       "120                                                360                               \n",
       "121                                                342                               \n",
       "122                                                406                               \n",
       "123                                                396                               \n",
       "124                                                420                               \n",
       "125                                                472                               \n",
       "126                                                548                               \n",
       "127                                                559                               \n",
       "128                                                463                               \n",
       "129                                                407                               \n",
       "130                                                362                               \n",
       "131                                                405                               \n",
       "132                                                417                               \n",
       "133                                                391                               \n",
       "134                                                419                               \n",
       "135                                                461                               \n",
       "136                                                472                               \n",
       "137                                                535                               \n",
       "138                                                622                               \n",
       "139                                                606                               \n",
       "140                                                508                               \n",
       "141                                                461                               \n",
       "142                                                390                               \n",
       "143                                                432                               \n",
       "\n",
       "[144 rows x 2 columns]"
      ]
     },
     "execution_count": 11,
     "metadata": {},
     "output_type": "execute_result"
    }
   ],
   "source": [
    "dataset"
   ]
  },
  {
   "cell_type": "code",
   "execution_count": 12,
   "metadata": {
    "collapsed": false
   },
   "outputs": [
    {
     "name": "stdout",
     "output_type": "stream",
     "text": [
      "<class 'pandas.core.frame.DataFrame'>\n",
      "RangeIndex: 144 entries, 0 to 143\n",
      "Data columns (total 2 columns):\n",
      "Month                                                                             144 non-null object\n",
      "International airline passengers: monthly totals in thousands. Jan 49 ? Dec 60    144 non-null int64\n",
      "dtypes: int64(1), object(1)\n",
      "memory usage: 2.3+ KB\n"
     ]
    }
   ],
   "source": [
    "dataset.info()#查看数据集信息"
   ]
  },
  {
   "cell_type": "code",
   "execution_count": 13,
   "metadata": {
    "collapsed": false
   },
   "outputs": [
    {
     "data": {
      "text/html": [
       "<div>\n",
       "<table border=\"1\" class=\"dataframe\">\n",
       "  <thead>\n",
       "    <tr style=\"text-align: right;\">\n",
       "      <th></th>\n",
       "      <th>Month</th>\n",
       "      <th>International airline passengers: monthly totals in thousands. Jan 49 ? Dec 60</th>\n",
       "    </tr>\n",
       "  </thead>\n",
       "  <tbody>\n",
       "    <tr>\n",
       "      <th>0</th>\n",
       "      <td>1949-01</td>\n",
       "      <td>112</td>\n",
       "    </tr>\n",
       "    <tr>\n",
       "      <th>1</th>\n",
       "      <td>1949-02</td>\n",
       "      <td>118</td>\n",
       "    </tr>\n",
       "    <tr>\n",
       "      <th>2</th>\n",
       "      <td>1949-03</td>\n",
       "      <td>132</td>\n",
       "    </tr>\n",
       "    <tr>\n",
       "      <th>3</th>\n",
       "      <td>1949-04</td>\n",
       "      <td>129</td>\n",
       "    </tr>\n",
       "    <tr>\n",
       "      <th>4</th>\n",
       "      <td>1949-05</td>\n",
       "      <td>121</td>\n",
       "    </tr>\n",
       "  </tbody>\n",
       "</table>\n",
       "</div>"
      ],
      "text/plain": [
       "     Month  \\\n",
       "0  1949-01   \n",
       "1  1949-02   \n",
       "2  1949-03   \n",
       "3  1949-04   \n",
       "4  1949-05   \n",
       "\n",
       "   International airline passengers: monthly totals in thousands. Jan 49 ? Dec 60  \n",
       "0                                                112                               \n",
       "1                                                118                               \n",
       "2                                                132                               \n",
       "3                                                129                               \n",
       "4                                                121                               "
      ]
     },
     "execution_count": 13,
     "metadata": {},
     "output_type": "execute_result"
    }
   ],
   "source": [
    "dataset.head(5)#df.head()会将excel表格中的第一行看作列名，并默认输出之后的五行，在head后面的括号里面直接写你想要输出的行数也行，比如2，10，100之类的。"
   ]
  },
  {
   "cell_type": "code",
   "execution_count": 14,
   "metadata": {
    "collapsed": false
   },
   "outputs": [
    {
     "data": {
      "text/html": [
       "<div>\n",
       "<table border=\"1\" class=\"dataframe\">\n",
       "  <thead>\n",
       "    <tr style=\"text-align: right;\">\n",
       "      <th></th>\n",
       "      <th>Month</th>\n",
       "      <th>International airline passengers: monthly totals in thousands. Jan 49 ? Dec 60</th>\n",
       "    </tr>\n",
       "  </thead>\n",
       "  <tbody>\n",
       "    <tr>\n",
       "      <th>134</th>\n",
       "      <td>1960-03</td>\n",
       "      <td>419</td>\n",
       "    </tr>\n",
       "    <tr>\n",
       "      <th>135</th>\n",
       "      <td>1960-04</td>\n",
       "      <td>461</td>\n",
       "    </tr>\n",
       "    <tr>\n",
       "      <th>136</th>\n",
       "      <td>1960-05</td>\n",
       "      <td>472</td>\n",
       "    </tr>\n",
       "    <tr>\n",
       "      <th>137</th>\n",
       "      <td>1960-06</td>\n",
       "      <td>535</td>\n",
       "    </tr>\n",
       "    <tr>\n",
       "      <th>138</th>\n",
       "      <td>1960-07</td>\n",
       "      <td>622</td>\n",
       "    </tr>\n",
       "    <tr>\n",
       "      <th>139</th>\n",
       "      <td>1960-08</td>\n",
       "      <td>606</td>\n",
       "    </tr>\n",
       "    <tr>\n",
       "      <th>140</th>\n",
       "      <td>1960-09</td>\n",
       "      <td>508</td>\n",
       "    </tr>\n",
       "    <tr>\n",
       "      <th>141</th>\n",
       "      <td>1960-10</td>\n",
       "      <td>461</td>\n",
       "    </tr>\n",
       "    <tr>\n",
       "      <th>142</th>\n",
       "      <td>1960-11</td>\n",
       "      <td>390</td>\n",
       "    </tr>\n",
       "    <tr>\n",
       "      <th>143</th>\n",
       "      <td>1960-12</td>\n",
       "      <td>432</td>\n",
       "    </tr>\n",
       "  </tbody>\n",
       "</table>\n",
       "</div>"
      ],
      "text/plain": [
       "       Month  \\\n",
       "134  1960-03   \n",
       "135  1960-04   \n",
       "136  1960-05   \n",
       "137  1960-06   \n",
       "138  1960-07   \n",
       "139  1960-08   \n",
       "140  1960-09   \n",
       "141  1960-10   \n",
       "142  1960-11   \n",
       "143  1960-12   \n",
       "\n",
       "     International airline passengers: monthly totals in thousands. Jan 49 ? Dec 60  \n",
       "134                                                419                               \n",
       "135                                                461                               \n",
       "136                                                472                               \n",
       "137                                                535                               \n",
       "138                                                622                               \n",
       "139                                                606                               \n",
       "140                                                508                               \n",
       "141                                                461                               \n",
       "142                                                390                               \n",
       "143                                                432                               "
      ]
     },
     "execution_count": 14,
     "metadata": {},
     "output_type": "execute_result"
    }
   ],
   "source": [
    "dataset.tail(10)#输出数据集最后几行"
   ]
  },
  {
   "cell_type": "code",
   "execution_count": 15,
   "metadata": {
    "collapsed": false
   },
   "outputs": [
    {
     "data": {
      "text/html": [
       "<div>\n",
       "<table border=\"1\" class=\"dataframe\">\n",
       "  <thead>\n",
       "    <tr style=\"text-align: right;\">\n",
       "      <th></th>\n",
       "      <th>International airline passengers: monthly totals in thousands. Jan 49 ? Dec 60</th>\n",
       "    </tr>\n",
       "  </thead>\n",
       "  <tbody>\n",
       "    <tr>\n",
       "      <th>count</th>\n",
       "      <td>144.000000</td>\n",
       "    </tr>\n",
       "    <tr>\n",
       "      <th>mean</th>\n",
       "      <td>280.298611</td>\n",
       "    </tr>\n",
       "    <tr>\n",
       "      <th>std</th>\n",
       "      <td>119.966317</td>\n",
       "    </tr>\n",
       "    <tr>\n",
       "      <th>min</th>\n",
       "      <td>104.000000</td>\n",
       "    </tr>\n",
       "    <tr>\n",
       "      <th>25%</th>\n",
       "      <td>180.000000</td>\n",
       "    </tr>\n",
       "    <tr>\n",
       "      <th>50%</th>\n",
       "      <td>265.500000</td>\n",
       "    </tr>\n",
       "    <tr>\n",
       "      <th>75%</th>\n",
       "      <td>360.500000</td>\n",
       "    </tr>\n",
       "    <tr>\n",
       "      <th>max</th>\n",
       "      <td>622.000000</td>\n",
       "    </tr>\n",
       "  </tbody>\n",
       "</table>\n",
       "</div>"
      ],
      "text/plain": [
       "       International airline passengers: monthly totals in thousands. Jan 49 ? Dec 60\n",
       "count                                         144.000000                             \n",
       "mean                                          280.298611                             \n",
       "std                                           119.966317                             \n",
       "min                                           104.000000                             \n",
       "25%                                           180.000000                             \n",
       "50%                                           265.500000                             \n",
       "75%                                           360.500000                             \n",
       "max                                           622.000000                             "
      ]
     },
     "execution_count": 15,
     "metadata": {},
     "output_type": "execute_result"
    }
   ],
   "source": [
    "dataset.describe()#返回的是这一列或这个DataFrame的统计变量。其物理意义在于观察这一系列数据的范围。大小、波动趋势等等，便于判断后续对数据采取哪类模型更合适。\n",
    "#将数据从小到大排列，处在1/4点和3/4点的数字，类似中位数也就是50%\n",
    "#count 计数， mean 平均值， std 标准差， min 最小值, 25% 下四分位， 50% 中位数， 75% 上四分位， max 最大值"
   ]
  },
  {
   "cell_type": "code",
   "execution_count": 16,
   "metadata": {
    "collapsed": true
   },
   "outputs": [],
   "source": [
    "#我们在这个项目中只使用乘客人数。因此，我们创建了一个名为“data”的新数据\n",
    "#只分配给这个新的小数据的乘客号码。\n",
    "data = dataset.iloc[:,1].values#iloc()是根据标签所在的位置来选取列\n",
    "# Python 字典 values() 方法以列表形式（并非直接的列表，若要返回列表值还需调用list函数）返回字典中的所有值。"
   ]
  },
  {
   "cell_type": "code",
   "execution_count": 17,
   "metadata": {
    "collapsed": false
   },
   "outputs": [
    {
     "data": {
      "image/png": "[encoded data removed]",
      "text/plain": [
       "<matplotlib.figure.Figure at 0x17f3fac4860>"
      ]
     },
     "metadata": {},
     "output_type": "display_data"
    }
   ],
   "source": [
    "plt.plot(data)#绘制第一列的图\n",
    "plt.xlabel(\"Time\")#设置横纵轴\n",
    "plt.ylabel(\"Number of passengers\")\n",
    "plt.title(\"Internationl Airline Passengers\")\n",
    "plt.show()\n",
    "#Matplotlib 是Python中类似 MATLAB 的绘图工具\n",
    "#在任何绘图之前，我们需要一个Figure对象，可以理解成我们需要一张画板才能开始绘图。"
   ]
  },
  {
   "cell_type": "code",
   "execution_count": 18,
   "metadata": {
    "collapsed": false
   },
   "outputs": [
    {
     "data": {
      "text/plain": [
       "(144,)"
      ]
     },
     "execution_count": 18,
     "metadata": {},
     "output_type": "execute_result"
    }
   ],
   "source": [
    "data.shape#shape函数是numpy.core.fromnumeric中的函数，它的功能是查看矩阵或者数组的维数。"
   ]
  },
  {
   "cell_type": "code",
   "execution_count": 19,
   "metadata": {
    "collapsed": false
   },
   "outputs": [
    {
     "data": {
      "text/plain": [
       "(144, 1)"
      ]
     },
     "execution_count": 19,
     "metadata": {},
     "output_type": "execute_result"
    }
   ],
   "source": [
    "data = data.reshape(-1,1)#reshape函数是重新定义数组对象的形状\n",
    "#arr.reshape(-1,1)\n",
    "#-1表示按照行的方式的获取，结果形成一列\n",
    "#也就是说，让它变成一列，行数不知道多少\n",
    "#reshape是一个机器学习的知识点，利用到了tensorflow\n",
    "data.astype(\"float32\")\n",
    "#astype是Numpy库中的函数，astype是转换数组的数据类型，像这里，就是将float64->float32，即把小数部分截断\n",
    "data.shape"
   ]
  },
  {
   "cell_type": "code",
   "execution_count": 20,
   "metadata": {
    "collapsed": false
   },
   "outputs": [
    {
     "name": "stderr",
     "output_type": "stream",
     "text": [
      "C:\\Anaconda\\lib\\site-packages\\sklearn\\utils\\validation.py:420: DataConversionWarning: Data with input dtype int64 was converted to float64 by MinMaxScaler.\n",
      "  warnings.warn(msg, DataConversionWarning)\n"
     ]
    }
   ],
   "source": [
    "# After reshaping, we should scale all of datas between 0 and 1.\n",
    "from sklearn.preprocessing import MinMaxScaler #import scling library\n",
    "scaler = MinMaxScaler(feature_range=(0,1))\n",
    "data_scaled = scaler.fit_transform(data)"
   ]
  },
  {
   "cell_type": "code",
   "execution_count": 21,
   "metadata": {
    "collapsed": false
   },
   "outputs": [
    {
     "data": {
      "text/plain": [
       "array([[ 0.01544402],\n",
       "       [ 0.02702703],\n",
       "       [ 0.05405405],\n",
       "       [ 0.04826255],\n",
       "       [ 0.03281853],\n",
       "       [ 0.05984556],\n",
       "       [ 0.08494208],\n",
       "       [ 0.08494208],\n",
       "       [ 0.06177606],\n",
       "       [ 0.02895753],\n",
       "       [ 0.        ],\n",
       "       [ 0.02702703],\n",
       "       [ 0.02123552],\n",
       "       [ 0.04247104],\n",
       "       [ 0.07142857],\n",
       "       [ 0.05984556],\n",
       "       [ 0.04054054],\n",
       "       [ 0.08687259],\n",
       "       [ 0.12741313],\n",
       "       [ 0.12741313],\n",
       "       [ 0.1042471 ],\n",
       "       [ 0.05598456],\n",
       "       [ 0.01930502],\n",
       "       [ 0.06949807],\n",
       "       [ 0.07915058],\n",
       "       [ 0.08880309],\n",
       "       [ 0.14285714],\n",
       "       [ 0.11389961],\n",
       "       [ 0.13127413],\n",
       "       [ 0.14285714],\n",
       "       [ 0.18339768],\n",
       "       [ 0.18339768],\n",
       "       [ 0.15444015],\n",
       "       [ 0.11196911],\n",
       "       [ 0.08108108],\n",
       "       [ 0.11969112],\n",
       "       [ 0.12934363],\n",
       "       [ 0.14671815],\n",
       "       [ 0.17181467],\n",
       "       [ 0.14864865],\n",
       "       [ 0.15250965],\n",
       "       [ 0.22007722],\n",
       "       [ 0.24324324],\n",
       "       [ 0.26640927],\n",
       "       [ 0.2027027 ],\n",
       "       [ 0.16795367],\n",
       "       [ 0.13127413],\n",
       "       [ 0.17374517],\n",
       "       [ 0.17760618],\n",
       "       [ 0.17760618],\n",
       "       [ 0.25482625],\n",
       "       [ 0.25289575],\n",
       "       [ 0.24131274],\n",
       "       [ 0.26833977],\n",
       "       [ 0.30888031],\n",
       "       [ 0.32432432],\n",
       "       [ 0.25675676],\n",
       "       [ 0.20656371],\n",
       "       [ 0.14671815],\n",
       "       [ 0.18725869],\n",
       "       [ 0.19305019],\n",
       "       [ 0.16216216],\n",
       "       [ 0.25289575],\n",
       "       [ 0.23745174],\n",
       "       [ 0.25096525],\n",
       "       [ 0.30888031],\n",
       "       [ 0.38223938],\n",
       "       [ 0.36486486],\n",
       "       [ 0.2992278 ],\n",
       "       [ 0.24131274],\n",
       "       [ 0.19111969],\n",
       "       [ 0.24131274],\n",
       "       [ 0.26640927],\n",
       "       [ 0.24903475],\n",
       "       [ 0.31467181],\n",
       "       [ 0.31853282],\n",
       "       [ 0.32046332],\n",
       "       [ 0.40733591],\n",
       "       [ 0.5019305 ],\n",
       "       [ 0.46911197],\n",
       "       [ 0.4015444 ],\n",
       "       [ 0.32818533],\n",
       "       [ 0.25675676],\n",
       "       [ 0.33590734],\n",
       "       [ 0.34749035],\n",
       "       [ 0.33397683],\n",
       "       [ 0.41119691],\n",
       "       [ 0.4034749 ],\n",
       "       [ 0.41312741],\n",
       "       [ 0.52123552],\n",
       "       [ 0.5965251 ],\n",
       "       [ 0.58108108],\n",
       "       [ 0.48455598],\n",
       "       [ 0.38996139],\n",
       "       [ 0.32239382],\n",
       "       [ 0.38996139],\n",
       "       [ 0.40733591],\n",
       "       [ 0.38030888],\n",
       "       [ 0.48648649],\n",
       "       [ 0.47104247],\n",
       "       [ 0.48455598],\n",
       "       [ 0.61389961],\n",
       "       [ 0.6969112 ],\n",
       "       [ 0.7007722 ],\n",
       "       [ 0.57915058],\n",
       "       [ 0.46911197],\n",
       "       [ 0.38803089],\n",
       "       [ 0.44787645],\n",
       "       [ 0.45559846],\n",
       "       [ 0.41312741],\n",
       "       [ 0.4980695 ],\n",
       "       [ 0.47104247],\n",
       "       [ 0.5       ],\n",
       "       [ 0.63899614],\n",
       "       [ 0.74710425],\n",
       "       [ 0.77413127],\n",
       "       [ 0.57915058],\n",
       "       [ 0.49227799],\n",
       "       [ 0.3976834 ],\n",
       "       [ 0.44980695],\n",
       "       [ 0.49420849],\n",
       "       [ 0.45945946],\n",
       "       [ 0.58301158],\n",
       "       [ 0.56370656],\n",
       "       [ 0.61003861],\n",
       "       [ 0.71042471],\n",
       "       [ 0.85714286],\n",
       "       [ 0.87837838],\n",
       "       [ 0.69305019],\n",
       "       [ 0.58494208],\n",
       "       [ 0.4980695 ],\n",
       "       [ 0.58108108],\n",
       "       [ 0.6042471 ],\n",
       "       [ 0.55405405],\n",
       "       [ 0.60810811],\n",
       "       [ 0.68918919],\n",
       "       [ 0.71042471],\n",
       "       [ 0.83204633],\n",
       "       [ 1.        ],\n",
       "       [ 0.96911197],\n",
       "       [ 0.77992278],\n",
       "       [ 0.68918919],\n",
       "       [ 0.55212355],\n",
       "       [ 0.63320463]])"
      ]
     },
     "execution_count": 21,
     "metadata": {},
     "output_type": "execute_result"
    }
   ],
   "source": [
    "data_scaled"
   ]
  },
  {
   "cell_type": "code",
   "execution_count": 22,
   "metadata": {
    "collapsed": false
   },
   "outputs": [
    {
     "name": "stdout",
     "output_type": "stream",
     "text": [
      "Train data size is 72\n",
      "Test data size is 72\n"
     ]
    }
   ],
   "source": [
    "train_data_size = int(len(data_scaled)*0.50)\n",
    "test_data_size = len(data_scaled) - train_data_size\n",
    "print(\"Train data size is {}\".format(train_data_size))\n",
    "print(\"Test data size is {}\".format(test_data_size))"
   ]
  },
  {
   "cell_type": "code",
   "execution_count": 23,
   "metadata": {
    "collapsed": false
   },
   "outputs": [
    {
     "name": "stdout",
     "output_type": "stream",
     "text": [
      "Train data size is 72\n",
      "Test data size is 72\n"
     ]
    }
   ],
   "source": [
    "train = data_scaled[0:train_data_size,:]\n",
    "test = data_scaled[train_data_size:len(data_scaled),:]\n",
    "# Let's check number of train and test datas again\n",
    "print(\"Train data size is {}\".format(len(train)))\n",
    "print(\"Test data size is {}\".format(len(test)))"
   ]
  },
  {
   "cell_type": "code",
   "execution_count": 24,
   "metadata": {
    "collapsed": true
   },
   "outputs": [],
   "source": [
    "x_train = []\n",
    "y_train = []\n",
    "time_steps=10\n",
    "for i in range(len(train)-time_steps-1):\n",
    "    a = train[i:(i+time_steps),0]\n",
    "    x_train.append(a)#append函数是在列表末尾添加新的对象\n",
    "    y_train.append(train[i + time_steps,0])\n",
    "trainX = np.array(x_train)\n",
    "trainY = np.array(y_train)\n"
   ]
  },
  {
   "cell_type": "code",
   "execution_count": 25,
   "metadata": {
    "collapsed": false
   },
   "outputs": [
    {
     "data": {
      "text/plain": [
       "(61, 10)"
      ]
     },
     "execution_count": 25,
     "metadata": {},
     "output_type": "execute_result"
    }
   ],
   "source": [
    "trainX.shape"
   ]
  },
  {
   "cell_type": "code",
   "execution_count": 26,
   "metadata": {
    "collapsed": false
   },
   "outputs": [
    {
     "data": {
      "text/plain": [
       "(61,)"
      ]
     },
     "execution_count": 26,
     "metadata": {},
     "output_type": "execute_result"
    }
   ],
   "source": [
    "trainY.shape"
   ]
  },
  {
   "cell_type": "code",
   "execution_count": 27,
   "metadata": {
    "collapsed": true
   },
   "outputs": [],
   "source": [
    "x_test = []\n",
    "y_test = []\n",
    "for i in range(len(test)-time_steps-1):\n",
    "    a = test[i:(i+time_steps),0]\n",
    "    x_test.append(a)\n",
    "    y_test.append(test[i + time_steps,0])\n",
    "testX = np.array(x_test)\n",
    "testY = np.array(y_test)"
   ]
  },
  {
   "cell_type": "code",
   "execution_count": 28,
   "metadata": {
    "collapsed": false
   },
   "outputs": [
    {
     "data": {
      "text/plain": [
       "(61, 10)"
      ]
     },
     "execution_count": 28,
     "metadata": {},
     "output_type": "execute_result"
    }
   ],
   "source": [
    "testX.shape"
   ]
  },
  {
   "cell_type": "code",
   "execution_count": 29,
   "metadata": {
    "collapsed": false
   },
   "outputs": [
    {
     "name": "stdout",
     "output_type": "stream",
     "text": [
      "Shape of trainX is (61, 10, 1)\n",
      "Shape of testX is (61, 10, 1)\n"
     ]
    }
   ],
   "source": [
    "trainX = np.reshape(trainX, (trainX.shape[0], trainX.shape[1],1))\n",
    "testX = np.reshape(testX, (testX.shape[0],testX.shape[1],1))\n",
    "# Print and check shapes\n",
    "print(\"Shape of trainX is {}\".format(trainX.shape))\n",
    "print(\"Shape of testX is {}\".format(testX.shape))"
   ]
  },
  {
   "cell_type": "code",
   "execution_count": 30,
   "metadata": {
    "collapsed": false,
    "scrolled": true
   },
   "outputs": [
    {
     "name": "stderr",
     "output_type": "stream",
     "text": [
      "Using TensorFlow backend.\n"
     ]
    }
   ],
   "source": [
    "from keras.layers import Dense, SimpleRNN, Dropout\n",
    "from keras.metrics import mean_squared_error\n",
    "from keras.models import Sequential"
   ]
  },
  {
   "cell_type": "code",
   "execution_count": 32,
   "metadata": {
    "collapsed": false
   },
   "outputs": [
    {
     "name": "stdout",
     "output_type": "stream",
     "text": [
      "Epoch 1/200\n",
      "61/61 [==============================] - 4s 58ms/step - loss: 1.1469\n",
      "Epoch 2/200\n",
      "61/61 [==============================] - 0s 2ms/step - loss: 0.5300\n",
      "Epoch 3/200\n",
      "61/61 [==============================] - 0s 2ms/step - loss: 0.5361\n",
      "Epoch 4/200\n",
      "61/61 [==============================] - 0s 1ms/step - loss: 0.3922\n",
      "Epoch 5/200\n",
      "61/61 [==============================] - 0s 1ms/step - loss: 0.6036\n",
      "Epoch 6/200\n",
      "61/61 [==============================] - 0s 2ms/step - loss: 0.2849\n",
      "Epoch 7/200\n",
      "61/61 [==============================] - 0s 2ms/step - loss: 0.2984\n",
      "Epoch 8/200\n",
      "61/61 [==============================] - 0s 2ms/step - loss: 0.2883\n",
      "Epoch 9/200\n",
      "61/61 [==============================] - 0s 2ms/step - loss: 0.2685\n",
      "Epoch 10/200\n",
      "61/61 [==============================] - 0s 2ms/step - loss: 0.2094\n",
      "Epoch 11/200\n",
      "61/61 [==============================] - 0s 2ms/step - loss: 0.2107\n",
      "Epoch 12/200\n",
      "61/61 [==============================] - 0s 2ms/step - loss: 0.1532\n",
      "Epoch 13/200\n",
      "61/61 [==============================] - 0s 2ms/step - loss: 0.1957\n",
      "Epoch 14/200\n",
      "61/61 [==============================] - 0s 2ms/step - loss: 0.1746\n",
      "Epoch 15/200\n",
      "61/61 [==============================] - 0s 2ms/step - loss: 0.1328\n",
      "Epoch 16/200\n",
      "61/61 [==============================] - 0s 1ms/step - loss: 0.1382\n",
      "Epoch 17/200\n",
      "61/61 [==============================] - 0s 2ms/step - loss: 0.1492\n",
      "Epoch 18/200\n",
      "61/61 [==============================] - 0s 2ms/step - loss: 0.1313\n",
      "Epoch 19/200\n",
      "61/61 [==============================] - 0s 2ms/step - loss: 0.0746\n",
      "Epoch 20/200\n",
      "61/61 [==============================] - 0s 2ms/step - loss: 0.1479\n",
      "Epoch 21/200\n",
      "61/61 [==============================] - 0s 2ms/step - loss: 0.0572\n",
      "Epoch 22/200\n",
      "61/61 [==============================] - 0s 2ms/step - loss: 0.0867\n",
      "Epoch 23/200\n",
      "61/61 [==============================] - 0s 2ms/step - loss: 0.1009\n",
      "Epoch 24/200\n",
      "61/61 [==============================] - 0s 2ms/step - loss: 0.0719\n",
      "Epoch 25/200\n",
      "61/61 [==============================] - 0s 1ms/step - loss: 0.0937\n",
      "Epoch 26/200\n",
      "61/61 [==============================] - 0s 2ms/step - loss: 0.0741\n",
      "Epoch 27/200\n",
      "61/61 [==============================] - 0s 2ms/step - loss: 0.0570\n",
      "Epoch 28/200\n",
      "61/61 [==============================] - 0s 2ms/step - loss: 0.0632\n",
      "Epoch 29/200\n",
      "61/61 [==============================] - 0s 2ms/step - loss: 0.0841\n",
      "Epoch 30/200\n",
      "61/61 [==============================] - 0s 2ms/step - loss: 0.0691\n",
      "Epoch 31/200\n",
      "61/61 [==============================] - 0s 2ms/step - loss: 0.0374\n",
      "Epoch 32/200\n",
      "61/61 [==============================] - 0s 2ms/step - loss: 0.0553\n",
      "Epoch 33/200\n",
      "61/61 [==============================] - 0s 2ms/step - loss: 0.0621\n",
      "Epoch 34/200\n",
      "61/61 [==============================] - 0s 2ms/step - loss: 0.0630\n",
      "Epoch 35/200\n",
      "61/61 [==============================] - 0s 2ms/step - loss: 0.0560\n",
      "Epoch 36/200\n",
      "61/61 [==============================] - 0s 2ms/step - loss: 0.0372\n",
      "Epoch 37/200\n",
      "61/61 [==============================] - 0s 2ms/step - loss: 0.0720\n",
      "Epoch 38/200\n",
      "61/61 [==============================] - 0s 2ms/step - loss: 0.0382\n",
      "Epoch 39/200\n",
      "61/61 [==============================] - 0s 2ms/step - loss: 0.0329\n",
      "Epoch 40/200\n",
      "61/61 [==============================] - 0s 3ms/step - loss: 0.0371\n",
      "Epoch 41/200\n",
      "61/61 [==============================] - 0s 2ms/step - loss: 0.0507\n",
      "Epoch 42/200\n",
      "61/61 [==============================] - 0s 2ms/step - loss: 0.0458\n",
      "Epoch 43/200\n",
      "61/61 [==============================] - 0s 2ms/step - loss: 0.0301\n",
      "Epoch 44/200\n",
      "61/61 [==============================] - 0s 2ms/step - loss: 0.0454\n",
      "Epoch 45/200\n",
      "61/61 [==============================] - 0s 2ms/step - loss: 0.0493\n",
      "Epoch 46/200\n",
      "61/61 [==============================] - 0s 2ms/step - loss: 0.0358\n",
      "Epoch 47/200\n",
      "61/61 [==============================] - 0s 2ms/step - loss: 0.0370\n",
      "Epoch 48/200\n",
      "61/61 [==============================] - 0s 2ms/step - loss: 0.0368\n",
      "Epoch 49/200\n",
      "61/61 [==============================] - 0s 2ms/step - loss: 0.0319\n",
      "Epoch 50/200\n",
      "61/61 [==============================] - 0s 2ms/step - loss: 0.0222\n",
      "Epoch 51/200\n",
      "61/61 [==============================] - 0s 2ms/step - loss: 0.0357\n",
      "Epoch 52/200\n",
      "61/61 [==============================] - 0s 2ms/step - loss: 0.0369\n",
      "Epoch 53/200\n",
      "61/61 [==============================] - 0s 3ms/step - loss: 0.0320\n",
      "Epoch 54/200\n",
      "61/61 [==============================] - 0s 2ms/step - loss: 0.0242\n",
      "Epoch 55/200\n",
      "61/61 [==============================] - 0s 2ms/step - loss: 0.0333\n",
      "Epoch 56/200\n",
      "61/61 [==============================] - 0s 2ms/step - loss: 0.0315\n",
      "Epoch 57/200\n",
      "61/61 [==============================] - 0s 3ms/step - loss: 0.0316\n",
      "Epoch 58/200\n",
      "61/61 [==============================] - 0s 2ms/step - loss: 0.0252\n",
      "Epoch 59/200\n",
      "61/61 [==============================] - 0s 3ms/step - loss: 0.0217\n",
      "Epoch 60/200\n",
      "61/61 [==============================] - 0s 2ms/step - loss: 0.0384\n",
      "Epoch 61/200\n",
      "61/61 [==============================] - 0s 2ms/step - loss: 0.0255\n",
      "Epoch 62/200\n",
      "61/61 [==============================] - 0s 2ms/step - loss: 0.0256\n",
      "Epoch 63/200\n",
      "61/61 [==============================] - 0s 2ms/step - loss: 0.0312\n",
      "Epoch 64/200\n",
      "61/61 [==============================] - 0s 2ms/step - loss: 0.0275\n",
      "Epoch 65/200\n",
      "61/61 [==============================] - 0s 2ms/step - loss: 0.0380\n",
      "Epoch 66/200\n",
      "61/61 [==============================] - 0s 1ms/step - loss: 0.0232\n",
      "Epoch 67/200\n",
      "61/61 [==============================] - 0s 2ms/step - loss: 0.0278\n",
      "Epoch 68/200\n",
      "61/61 [==============================] - 0s 2ms/step - loss: 0.0356\n",
      "Epoch 69/200\n",
      "61/61 [==============================] - 0s 2ms/step - loss: 0.0347\n",
      "Epoch 70/200\n",
      "61/61 [==============================] - 0s 2ms/step - loss: 0.0266\n",
      "Epoch 71/200\n",
      "61/61 [==============================] - 0s 2ms/step - loss: 0.0197\n",
      "Epoch 72/200\n",
      "61/61 [==============================] - 0s 2ms/step - loss: 0.0147\n",
      "Epoch 73/200\n",
      "61/61 [==============================] - 0s 2ms/step - loss: 0.0281\n",
      "Epoch 74/200\n",
      "61/61 [==============================] - 0s 1ms/step - loss: 0.0253\n",
      "Epoch 75/200\n",
      "61/61 [==============================] - 0s 2ms/step - loss: 0.0240\n",
      "Epoch 76/200\n",
      "61/61 [==============================] - 0s 2ms/step - loss: 0.0189\n",
      "Epoch 77/200\n",
      "61/61 [==============================] - 0s 2ms/step - loss: 0.0142\n",
      "Epoch 78/200\n",
      "61/61 [==============================] - 0s 1ms/step - loss: 0.0236\n",
      "Epoch 79/200\n",
      "61/61 [==============================] - 0s 2ms/step - loss: 0.0205\n",
      "Epoch 80/200\n",
      "61/61 [==============================] - 0s 2ms/step - loss: 0.0192\n",
      "Epoch 81/200\n",
      "61/61 [==============================] - 0s 2ms/step - loss: 0.0269\n",
      "Epoch 82/200\n",
      "61/61 [==============================] - 0s 1ms/step - loss: 0.0239\n",
      "Epoch 83/200\n",
      "61/61 [==============================] - 0s 1ms/step - loss: 0.0139\n",
      "Epoch 84/200\n",
      "61/61 [==============================] - 0s 2ms/step - loss: 0.0194\n",
      "Epoch 85/200\n",
      "61/61 [==============================] - 0s 2ms/step - loss: 0.0168\n",
      "Epoch 86/200\n",
      "61/61 [==============================] - 0s 1ms/step - loss: 0.0183\n",
      "Epoch 87/200\n",
      "61/61 [==============================] - 0s 2ms/step - loss: 0.0176\n",
      "Epoch 88/200\n",
      "61/61 [==============================] - 0s 2ms/step - loss: 0.0227\n",
      "Epoch 89/200\n",
      "61/61 [==============================] - 0s 2ms/step - loss: 0.0147\n",
      "Epoch 90/200\n",
      "61/61 [==============================] - 0s 1ms/step - loss: 0.0150\n",
      "Epoch 91/200\n",
      "61/61 [==============================] - 0s 2ms/step - loss: 0.0119\n",
      "Epoch 92/200\n",
      "61/61 [==============================] - 0s 2ms/step - loss: 0.0208\n",
      "Epoch 93/200\n",
      "61/61 [==============================] - 0s 2ms/step - loss: 0.0157\n",
      "Epoch 94/200\n",
      "61/61 [==============================] - 0s 2ms/step - loss: 0.0278\n",
      "Epoch 95/200\n",
      "61/61 [==============================] - 0s 1ms/step - loss: 0.0167\n",
      "Epoch 96/200\n",
      "61/61 [==============================] - 0s 2ms/step - loss: 0.0217\n",
      "Epoch 97/200\n",
      "61/61 [==============================] - 0s 1ms/step - loss: 0.0130\n",
      "Epoch 98/200\n",
      "61/61 [==============================] - 0s 1ms/step - loss: 0.0171\n",
      "Epoch 99/200\n",
      "61/61 [==============================] - 0s 2ms/step - loss: 0.0143\n",
      "Epoch 100/200\n",
      "61/61 [==============================] - 0s 2ms/step - loss: 0.0165\n",
      "Epoch 101/200\n",
      "61/61 [==============================] - 0s 2ms/step - loss: 0.0298\n",
      "Epoch 102/200\n",
      "61/61 [==============================] - 0s 2ms/step - loss: 0.0135\n",
      "Epoch 103/200\n",
      "61/61 [==============================] - 0s 2ms/step - loss: 0.0144\n",
      "Epoch 104/200\n",
      "61/61 [==============================] - 0s 2ms/step - loss: 0.0156\n",
      "Epoch 105/200\n",
      "61/61 [==============================] - 0s 2ms/step - loss: 0.0154\n",
      "Epoch 106/200\n",
      "61/61 [==============================] - 0s 2ms/step - loss: 0.0192\n",
      "Epoch 107/200\n",
      "61/61 [==============================] - 0s 2ms/step - loss: 0.0107\n",
      "Epoch 108/200\n",
      "61/61 [==============================] - 0s 2ms/step - loss: 0.0133\n",
      "Epoch 109/200\n",
      "61/61 [==============================] - 0s 1ms/step - loss: 0.0112\n",
      "Epoch 110/200\n",
      "61/61 [==============================] - 0s 2ms/step - loss: 0.0163\n",
      "Epoch 111/200\n",
      "61/61 [==============================] - 0s 2ms/step - loss: 0.0130\n",
      "Epoch 112/200\n",
      "61/61 [==============================] - 0s 1ms/step - loss: 0.0177\n",
      "Epoch 113/200\n",
      "61/61 [==============================] - 0s 2ms/step - loss: 0.0119\n",
      "Epoch 114/200\n",
      "61/61 [==============================] - 0s 2ms/step - loss: 0.0105\n",
      "Epoch 115/200\n",
      "61/61 [==============================] - 0s 2ms/step - loss: 0.0133\n",
      "Epoch 116/200\n",
      "61/61 [==============================] - 0s 1ms/step - loss: 0.0079\n",
      "Epoch 117/200\n",
      "61/61 [==============================] - 0s 2ms/step - loss: 0.0119\n",
      "Epoch 118/200\n",
      "61/61 [==============================] - 0s 2ms/step - loss: 0.0146\n",
      "Epoch 119/200\n",
      "61/61 [==============================] - 0s 2ms/step - loss: 0.0156\n",
      "Epoch 120/200\n",
      "61/61 [==============================] - 0s 2ms/step - loss: 0.0106\n",
      "Epoch 121/200\n",
      "61/61 [==============================] - 0s 2ms/step - loss: 0.0113\n",
      "Epoch 122/200\n",
      "61/61 [==============================] - 0s 2ms/step - loss: 0.0130\n",
      "Epoch 123/200\n",
      "61/61 [==============================] - 0s 2ms/step - loss: 0.0105\n",
      "Epoch 124/200\n",
      "61/61 [==============================] - 0s 2ms/step - loss: 0.0062\n",
      "Epoch 125/200\n",
      "61/61 [==============================] - 0s 1ms/step - loss: 0.0169\n",
      "Epoch 126/200\n",
      "61/61 [==============================] - 0s 2ms/step - loss: 0.0114\n",
      "Epoch 127/200\n",
      "61/61 [==============================] - 0s 2ms/step - loss: 0.0103\n",
      "Epoch 128/200\n",
      "61/61 [==============================] - 0s 1ms/step - loss: 0.0132\n",
      "Epoch 129/200\n",
      "61/61 [==============================] - 0s 2ms/step - loss: 0.0122\n",
      "Epoch 130/200\n",
      "61/61 [==============================] - 0s 2ms/step - loss: 0.0139\n",
      "Epoch 131/200\n",
      "61/61 [==============================] - 0s 2ms/step - loss: 0.0144\n",
      "Epoch 132/200\n",
      "61/61 [==============================] - 0s 2ms/step - loss: 0.0157\n",
      "Epoch 133/200\n",
      "61/61 [==============================] - 0s 2ms/step - loss: 0.0122\n",
      "Epoch 134/200\n",
      "61/61 [==============================] - 0s 2ms/step - loss: 0.0136\n",
      "Epoch 135/200\n",
      "61/61 [==============================] - 0s 1ms/step - loss: 0.0127\n",
      "Epoch 136/200\n",
      "61/61 [==============================] - 0s 2ms/step - loss: 0.0089\n",
      "Epoch 137/200\n",
      "61/61 [==============================] - 0s 2ms/step - loss: 0.0141\n",
      "Epoch 138/200\n",
      "61/61 [==============================] - 0s 2ms/step - loss: 0.0120\n",
      "Epoch 139/200\n",
      "61/61 [==============================] - 0s 2ms/step - loss: 0.0091\n",
      "Epoch 140/200\n",
      "61/61 [==============================] - 0s 2ms/step - loss: 0.0080\n",
      "Epoch 141/200\n",
      "61/61 [==============================] - 0s 2ms/step - loss: 0.0133\n",
      "Epoch 142/200\n",
      "61/61 [==============================] - 0s 2ms/step - loss: 0.0174\n",
      "Epoch 143/200\n",
      "61/61 [==============================] - 0s 1ms/step - loss: 0.0109\n",
      "Epoch 144/200\n",
      "61/61 [==============================] - 0s 2ms/step - loss: 0.0091\n",
      "Epoch 145/200\n",
      "61/61 [==============================] - 0s 1ms/step - loss: 0.0137\n",
      "Epoch 146/200\n",
      "61/61 [==============================] - 0s 1ms/step - loss: 0.0073\n",
      "Epoch 147/200\n",
      "61/61 [==============================] - 0s 1ms/step - loss: 0.0084\n",
      "Epoch 148/200\n",
      "61/61 [==============================] - 0s 1ms/step - loss: 0.0111\n",
      "Epoch 149/200\n",
      "61/61 [==============================] - 0s 2ms/step - loss: 0.0098\n",
      "Epoch 150/200\n",
      "61/61 [==============================] - 0s 2ms/step - loss: 0.0088\n",
      "Epoch 151/200\n",
      "61/61 [==============================] - 0s 1ms/step - loss: 0.0085\n",
      "Epoch 152/200\n",
      "61/61 [==============================] - 0s 1ms/step - loss: 0.0082\n",
      "Epoch 153/200\n",
      "61/61 [==============================] - 0s 2ms/step - loss: 0.0089\n",
      "Epoch 154/200\n",
      "61/61 [==============================] - 0s 1ms/step - loss: 0.0102\n",
      "Epoch 155/200\n",
      "61/61 [==============================] - 0s 2ms/step - loss: 0.0089\n",
      "Epoch 156/200\n",
      "61/61 [==============================] - 0s 1ms/step - loss: 0.0085\n",
      "Epoch 157/200\n",
      "61/61 [==============================] - 0s 2ms/step - loss: 0.0092\n",
      "Epoch 158/200\n",
      "61/61 [==============================] - 0s 1ms/step - loss: 0.0108\n",
      "Epoch 159/200\n",
      "61/61 [==============================] - 0s 1ms/step - loss: 0.0093\n",
      "Epoch 160/200\n",
      "61/61 [==============================] - 0s 2ms/step - loss: 0.0108\n",
      "Epoch 161/200\n",
      "61/61 [==============================] - 0s 1ms/step - loss: 0.0103\n",
      "Epoch 162/200\n",
      "61/61 [==============================] - 0s 2ms/step - loss: 0.0096\n",
      "Epoch 163/200\n",
      "61/61 [==============================] - 0s 1ms/step - loss: 0.0082\n",
      "Epoch 164/200\n",
      "61/61 [==============================] - 0s 1ms/step - loss: 0.0132\n",
      "Epoch 165/200\n",
      "61/61 [==============================] - 0s 2ms/step - loss: 0.0076\n",
      "Epoch 166/200\n",
      "61/61 [==============================] - 0s 2ms/step - loss: 0.0110\n",
      "Epoch 167/200\n",
      "61/61 [==============================] - 0s 1ms/step - loss: 0.0108\n",
      "Epoch 168/200\n",
      "61/61 [==============================] - 0s 2ms/step - loss: 0.0098\n",
      "Epoch 169/200\n",
      "61/61 [==============================] - 0s 1ms/step - loss: 0.0114\n",
      "Epoch 170/200\n",
      "61/61 [==============================] - 0s 2ms/step - loss: 0.0068\n",
      "Epoch 171/200\n",
      "61/61 [==============================] - 0s 1ms/step - loss: 0.0103\n",
      "Epoch 172/200\n",
      "61/61 [==============================] - 0s 1ms/step - loss: 0.0113\n",
      "Epoch 173/200\n",
      "61/61 [==============================] - 0s 2ms/step - loss: 0.0096\n",
      "Epoch 174/200\n",
      "61/61 [==============================] - 0s 2ms/step - loss: 0.0112\n",
      "Epoch 175/200\n",
      "61/61 [==============================] - 0s 1ms/step - loss: 0.0123\n",
      "Epoch 176/200\n",
      "61/61 [==============================] - 0s 1ms/step - loss: 0.0098\n",
      "Epoch 177/200\n",
      "61/61 [==============================] - 0s 1ms/step - loss: 0.0125\n",
      "Epoch 178/200\n",
      "61/61 [==============================] - 0s 1ms/step - loss: 0.0082\n",
      "Epoch 179/200\n",
      "61/61 [==============================] - 0s 1ms/step - loss: 0.0137\n",
      "Epoch 180/200\n",
      "61/61 [==============================] - 0s 1ms/step - loss: 0.0077\n",
      "Epoch 181/200\n",
      "61/61 [==============================] - 0s 1ms/step - loss: 0.0118\n",
      "Epoch 182/200\n",
      "61/61 [==============================] - 0s 1ms/step - loss: 0.0143\n",
      "Epoch 183/200\n",
      "61/61 [==============================] - 0s 1ms/step - loss: 0.0084\n",
      "Epoch 184/200\n",
      "61/61 [==============================] - 0s 1ms/step - loss: 0.0094\n",
      "Epoch 185/200\n",
      "61/61 [==============================] - 0s 1ms/step - loss: 0.0080\n",
      "Epoch 186/200\n",
      "61/61 [==============================] - 0s 1ms/step - loss: 0.0073\n",
      "Epoch 187/200\n",
      "61/61 [==============================] - 0s 1ms/step - loss: 0.0101\n",
      "Epoch 188/200\n",
      "61/61 [==============================] - 0s 2ms/step - loss: 0.0103\n",
      "Epoch 189/200\n",
      "61/61 [==============================] - 0s 1ms/step - loss: 0.0058\n",
      "Epoch 190/200\n",
      "61/61 [==============================] - 0s 1ms/step - loss: 0.0085\n",
      "Epoch 191/200\n",
      "61/61 [==============================] - 0s 1ms/step - loss: 0.0087\n",
      "Epoch 192/200\n",
      "61/61 [==============================] - 0s 1ms/step - loss: 0.0074\n",
      "Epoch 193/200\n",
      "61/61 [==============================] - 0s 1ms/step - loss: 0.0062\n",
      "Epoch 194/200\n",
      "61/61 [==============================] - 0s 1ms/step - loss: 0.0075\n",
      "Epoch 195/200\n",
      "61/61 [==============================] - 0s 1ms/step - loss: 0.0107\n",
      "Epoch 196/200\n",
      "61/61 [==============================] - 0s 1ms/step - loss: 0.0094\n",
      "Epoch 197/200\n",
      "61/61 [==============================] - 0s 1ms/step - loss: 0.0052\n",
      "Epoch 198/200\n",
      "61/61 [==============================] - 0s 1ms/step - loss: 0.0074\n",
      "Epoch 199/200\n",
      "61/61 [==============================] - 0s 1ms/step - loss: 0.0070\n",
      "Epoch 200/200\n",
      "61/61 [==============================] - 0s 1ms/step - loss: 0.0081\n"
     ]
    },
    {
     "data": {
      "text/plain": [
       "<keras.callbacks.History at 0x17f49d22710>"
      ]
     },
     "execution_count": 32,
     "metadata": {},
     "output_type": "execute_result"
    }
   ],
   "source": [
    "# Initializing RNN\n",
    "model = Sequential()\n",
    "# Add the first layer and Dropout regularization\n",
    "model.add(SimpleRNN(units=100,activation='tanh',return_sequences=True, \n",
    "                    input_shape=(trainX.shape[1],1)))\n",
    "model.add(Dropout(0.20))\n",
    "# Second layer and Dropout regularization\n",
    "model.add(SimpleRNN(units = 100, activation='tanh',return_sequences=True))\n",
    "model.add(Dropout(0.20))\n",
    "# Third layer and Dropout regularization\n",
    "model.add(SimpleRNN(units = 70, activation='tanh', return_sequences= True))\n",
    "model.add(Dropout(0.20))\n",
    "# Fourth layer and Dropout regularization\n",
    "model.add(SimpleRNN(units = 50))\n",
    "model.add(Dropout(0.20))\n",
    "# Add final or output layer\n",
    "model.add(Dense(units=1))\n",
    "\n",
    "# Compile our RNN model\n",
    "model.compile(optimizer = 'adam', loss = 'mean_squared_error')\n",
    "# Fitting the RNN to the training set\n",
    "model.fit(trainX, trainY, epochs = 200, batch_size=32)\n",
    "# Remember; epochs, batch_size etc. are just some of hyper parameters. \n",
    "# You can change these parameters whatever you want"
   ]
  },
  {
   "cell_type": "code",
   "execution_count": 33,
   "metadata": {
    "collapsed": false
   },
   "outputs": [],
   "source": [
    "##记住，我们在0和1之间缩放数据，但现在我们已经到了项目的末尾。\n",
    "#所以我们应该对数据进行反变换。\n",
    "trainPrediction = model.predict(trainX)\n",
    "testPrediction = model.predict(testX)\n",
    "\n",
    "# Remember, we scaled datas between 0 and 1 but now we're at the end of the project.\n",
    "# So we should inverse transform datas.\n",
    "\n",
    "trainPrediction = scaler.inverse_transform(trainPrediction)\n",
    "trainY = scaler.inverse_transform([trainY])\n",
    "testPrediction = scaler.inverse_transform(testPrediction)\n",
    "testY = scaler.inverse_transform([testY])"
   ]
  },
  {
   "cell_type": "code",
   "execution_count": 34,
   "metadata": {
    "collapsed": false
   },
   "outputs": [
    {
     "name": "stdout",
     "output_type": "stream",
     "text": [
      "Train Score is 19.39 RMSE\n",
      "Test Score is 51.69 RMSE\n"
     ]
    }
   ],
   "source": [
    "import tensorflow as tf\n",
    "sess = tf.Session()\n",
    "with sess.as_default():\n",
    "    trainScore = math.sqrt(mean_squared_error(trainY[0], trainPrediction[:,0]).eval())\n",
    "    testScore = math.sqrt(mean_squared_error(testY[0], testPrediction[:,0]).eval())\n",
    "print(\"Train Score is %.2lf RMSE\"%(trainScore))\n",
    "print(\"Test Score is %.2lf RMSE\"%(testScore))"
   ]
  },
  {
   "cell_type": "code",
   "execution_count": 35,
   "metadata": {
    "collapsed": false
   },
   "outputs": [
    {
     "data": {
      "image/png": "[encoded data removed]",
      "text/plain": [
       "<matplotlib.figure.Figure at 0x17f5c1a33c8>"
      ]
     },
     "metadata": {},
     "output_type": "display_data"
    }
   ],
   "source": [
    "trainPredictPlot = np.empty_like(dataset)\n",
    "trainPredictPlot[:, :] = np.nan\n",
    "trainPredictPlot[time_steps:len(trainPrediction)+time_steps, :] = trainPrediction\n",
    "\n",
    "testPredictPlot = np.empty_like(dataset)\n",
    "testPredictPlot[:, :] = np.nan\n",
    "testPredictPlot[len(trainPrediction)+(time_steps*2)+1:len(dataset)-1, :] = testPrediction\n",
    "\n",
    "plt.plot(scaler.inverse_transform(data_scaled),label = 'True Values', color='blue')\n",
    "plt.plot(trainPredictPlot,label='Train Prediction', color='red')\n",
    "plt.plot(testPredictPlot,label = 'Test Prediction', color='green')\n",
    "plt.xlabel(\"Time\")\n",
    "plt.ylabel(\"Number of Passengers\")\n",
    "plt.title(\"International Airline Passengers\")\n",
    "plt.legend()\n",
    "plt.show()"
   ]
  },
  {
   "cell_type": "code",
   "execution_count": null,
   "metadata": {
    "collapsed": false
   },
   "outputs": [],
   "source": [
    "print(\"Bye\")"
   ]
  },
  {
   "cell_type": "code",
   "execution_count": null,
   "metadata": {
    "collapsed": true
   },
   "outputs": [],
   "source": []
  }
 ],
 "metadata": {
  "anaconda-cloud": {},
  "kernelspec": {
   "display_name": "Python [conda env:Anaconda]",
   "language": "python",
   "name": "conda-env-Anaconda-py"
  },
  "language_info": {
   "codemirror_mode": {
    "name": "ipython",
    "version": 3
   },
   "file_extension": ".py",
   "mimetype": "text/x-python",
   "name": "python",
   "nbconvert_exporter": "python",
   "pygments_lexer": "ipython3",
   "version": "3.5.2"
  }
 },
 "nbformat": 4,
 "nbformat_minor": 1
}
